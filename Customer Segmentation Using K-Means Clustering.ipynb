{
 "cells": [
  {
   "cell_type": "markdown",
   "id": "611da4b5",
   "metadata": {},
   "source": [
    "# Importing the Dependencies"
   ]
  },
  {
   "cell_type": "code",
   "execution_count": 1,
   "id": "bd10aec7",
   "metadata": {},
   "outputs": [],
   "source": [
    "import numpy as np\n",
    "import pandas as pd\n",
    "import matplotlib.pyplot as plt\n",
    "import seaborn as sns\n",
    "from sklearn.cluster import KMeans"
   ]
  },
  {
   "cell_type": "markdown",
   "id": "d4f27933",
   "metadata": {},
   "source": [
    "# Data Collection and Analysis"
   ]
  },
  {
   "cell_type": "code",
   "execution_count": 2,
   "id": "5f70c2ea",
   "metadata": {},
   "outputs": [
    {
     "name": "stdout",
     "output_type": "stream",
     "text": [
      "     CustomerID  Gender  Age  Annual Income (k$)  Spending Score (1-100)\n",
      "0             1    Male   19                  15                      39\n",
      "1             2    Male   21                  15                      81\n",
      "2             3  Female   20                  16                       6\n",
      "3             4  Female   23                  16                      77\n",
      "4             5  Female   31                  17                      40\n",
      "..          ...     ...  ...                 ...                     ...\n",
      "195         196  Female   35                 120                      79\n",
      "196         197  Female   45                 126                      28\n",
      "197         198    Male   32                 126                      74\n",
      "198         199    Male   32                 137                      18\n",
      "199         200    Male   30                 137                      83\n",
      "\n",
      "[200 rows x 5 columns]\n"
     ]
    }
   ],
   "source": [
    "# loading the data from csv file to a Pandas DataFrame\n",
    "customer_data = pd.read_csv(\"Mall_Customers.csv\")\n",
    "print(customer_data)"
   ]
  },
  {
   "cell_type": "code",
   "execution_count": 3,
   "id": "fd5c8d30",
   "metadata": {},
   "outputs": [
    {
     "data": {
      "text/html": [
       "<div>\n",
       "<style scoped>\n",
       "    .dataframe tbody tr th:only-of-type {\n",
       "        vertical-align: middle;\n",
       "    }\n",
       "\n",
       "    .dataframe tbody tr th {\n",
       "        vertical-align: top;\n",
       "    }\n",
       "\n",
       "    .dataframe thead th {\n",
       "        text-align: right;\n",
       "    }\n",
       "</style>\n",
       "<table border=\"1\" class=\"dataframe\">\n",
       "  <thead>\n",
       "    <tr style=\"text-align: right;\">\n",
       "      <th></th>\n",
       "      <th>CustomerID</th>\n",
       "      <th>Gender</th>\n",
       "      <th>Age</th>\n",
       "      <th>Annual Income (k$)</th>\n",
       "      <th>Spending Score (1-100)</th>\n",
       "    </tr>\n",
       "  </thead>\n",
       "  <tbody>\n",
       "    <tr>\n",
       "      <th>0</th>\n",
       "      <td>1</td>\n",
       "      <td>Male</td>\n",
       "      <td>19</td>\n",
       "      <td>15</td>\n",
       "      <td>39</td>\n",
       "    </tr>\n",
       "    <tr>\n",
       "      <th>1</th>\n",
       "      <td>2</td>\n",
       "      <td>Male</td>\n",
       "      <td>21</td>\n",
       "      <td>15</td>\n",
       "      <td>81</td>\n",
       "    </tr>\n",
       "    <tr>\n",
       "      <th>2</th>\n",
       "      <td>3</td>\n",
       "      <td>Female</td>\n",
       "      <td>20</td>\n",
       "      <td>16</td>\n",
       "      <td>6</td>\n",
       "    </tr>\n",
       "    <tr>\n",
       "      <th>3</th>\n",
       "      <td>4</td>\n",
       "      <td>Female</td>\n",
       "      <td>23</td>\n",
       "      <td>16</td>\n",
       "      <td>77</td>\n",
       "    </tr>\n",
       "    <tr>\n",
       "      <th>4</th>\n",
       "      <td>5</td>\n",
       "      <td>Female</td>\n",
       "      <td>31</td>\n",
       "      <td>17</td>\n",
       "      <td>40</td>\n",
       "    </tr>\n",
       "  </tbody>\n",
       "</table>\n",
       "</div>"
      ],
      "text/plain": [
       "   CustomerID  Gender  Age  Annual Income (k$)  Spending Score (1-100)\n",
       "0           1    Male   19                  15                      39\n",
       "1           2    Male   21                  15                      81\n",
       "2           3  Female   20                  16                       6\n",
       "3           4  Female   23                  16                      77\n",
       "4           5  Female   31                  17                      40"
      ]
     },
     "execution_count": 3,
     "metadata": {},
     "output_type": "execute_result"
    }
   ],
   "source": [
    "#first 5 rows in the DataFrame\n",
    "customer_data.head()"
   ]
  },
  {
   "cell_type": "code",
   "execution_count": 4,
   "id": "a3b09ef6",
   "metadata": {},
   "outputs": [
    {
     "data": {
      "text/html": [
       "<div>\n",
       "<style scoped>\n",
       "    .dataframe tbody tr th:only-of-type {\n",
       "        vertical-align: middle;\n",
       "    }\n",
       "\n",
       "    .dataframe tbody tr th {\n",
       "        vertical-align: top;\n",
       "    }\n",
       "\n",
       "    .dataframe thead th {\n",
       "        text-align: right;\n",
       "    }\n",
       "</style>\n",
       "<table border=\"1\" class=\"dataframe\">\n",
       "  <thead>\n",
       "    <tr style=\"text-align: right;\">\n",
       "      <th></th>\n",
       "      <th>CustomerID</th>\n",
       "      <th>Gender</th>\n",
       "      <th>Age</th>\n",
       "      <th>Annual Income (k$)</th>\n",
       "      <th>Spending Score (1-100)</th>\n",
       "    </tr>\n",
       "  </thead>\n",
       "  <tbody>\n",
       "    <tr>\n",
       "      <th>195</th>\n",
       "      <td>196</td>\n",
       "      <td>Female</td>\n",
       "      <td>35</td>\n",
       "      <td>120</td>\n",
       "      <td>79</td>\n",
       "    </tr>\n",
       "    <tr>\n",
       "      <th>196</th>\n",
       "      <td>197</td>\n",
       "      <td>Female</td>\n",
       "      <td>45</td>\n",
       "      <td>126</td>\n",
       "      <td>28</td>\n",
       "    </tr>\n",
       "    <tr>\n",
       "      <th>197</th>\n",
       "      <td>198</td>\n",
       "      <td>Male</td>\n",
       "      <td>32</td>\n",
       "      <td>126</td>\n",
       "      <td>74</td>\n",
       "    </tr>\n",
       "    <tr>\n",
       "      <th>198</th>\n",
       "      <td>199</td>\n",
       "      <td>Male</td>\n",
       "      <td>32</td>\n",
       "      <td>137</td>\n",
       "      <td>18</td>\n",
       "    </tr>\n",
       "    <tr>\n",
       "      <th>199</th>\n",
       "      <td>200</td>\n",
       "      <td>Male</td>\n",
       "      <td>30</td>\n",
       "      <td>137</td>\n",
       "      <td>83</td>\n",
       "    </tr>\n",
       "  </tbody>\n",
       "</table>\n",
       "</div>"
      ],
      "text/plain": [
       "     CustomerID  Gender  Age  Annual Income (k$)  Spending Score (1-100)\n",
       "195         196  Female   35                 120                      79\n",
       "196         197  Female   45                 126                      28\n",
       "197         198    Male   32                 126                      74\n",
       "198         199    Male   32                 137                      18\n",
       "199         200    Male   30                 137                      83"
      ]
     },
     "execution_count": 4,
     "metadata": {},
     "output_type": "execute_result"
    }
   ],
   "source": [
    "#last 5 rows in the DataFrame\n",
    "customer_data.tail()"
   ]
  },
  {
   "cell_type": "code",
   "execution_count": 5,
   "id": "c8bc0f31",
   "metadata": {},
   "outputs": [
    {
     "data": {
      "text/plain": [
       "(200, 5)"
      ]
     },
     "execution_count": 5,
     "metadata": {},
     "output_type": "execute_result"
    }
   ],
   "source": [
    "#finding the number of rows and columns\n",
    "customer_data.shape"
   ]
  },
  {
   "cell_type": "code",
   "execution_count": 6,
   "id": "a6560ce6",
   "metadata": {},
   "outputs": [
    {
     "name": "stdout",
     "output_type": "stream",
     "text": [
      "<class 'pandas.core.frame.DataFrame'>\n",
      "RangeIndex: 200 entries, 0 to 199\n",
      "Data columns (total 5 columns):\n",
      " #   Column                  Non-Null Count  Dtype \n",
      "---  ------                  --------------  ----- \n",
      " 0   CustomerID              200 non-null    int64 \n",
      " 1   Gender                  200 non-null    object\n",
      " 2   Age                     200 non-null    int64 \n",
      " 3   Annual Income (k$)      200 non-null    int64 \n",
      " 4   Spending Score (1-100)  200 non-null    int64 \n",
      "dtypes: int64(4), object(1)\n",
      "memory usage: 7.9+ KB\n"
     ]
    }
   ],
   "source": [
    "#getting some information about dataset\n",
    "customer_data.info()"
   ]
  },
  {
   "cell_type": "code",
   "execution_count": 7,
   "id": "9d2ba783",
   "metadata": {},
   "outputs": [
    {
     "data": {
      "text/plain": [
       "CustomerID                0\n",
       "Gender                    0\n",
       "Age                       0\n",
       "Annual Income (k$)        0\n",
       "Spending Score (1-100)    0\n",
       "dtype: int64"
      ]
     },
     "execution_count": 7,
     "metadata": {},
     "output_type": "execute_result"
    }
   ],
   "source": [
    "#checking for missing values\n",
    "customer_data.isnull().sum()"
   ]
  },
  {
   "cell_type": "markdown",
   "id": "50fd6bee",
   "metadata": {},
   "source": [
    "# Choosing the Annual Income Column And Spending Score Column"
   ]
  },
  {
   "cell_type": "code",
   "execution_count": 8,
   "id": "f726af46",
   "metadata": {},
   "outputs": [
    {
     "name": "stdout",
     "output_type": "stream",
     "text": [
      "[[ 15  39]\n",
      " [ 15  81]\n",
      " [ 16   6]\n",
      " [ 16  77]\n",
      " [ 17  40]\n",
      " [ 17  76]\n",
      " [ 18   6]\n",
      " [ 18  94]\n",
      " [ 19   3]\n",
      " [ 19  72]\n",
      " [ 19  14]\n",
      " [ 19  99]\n",
      " [ 20  15]\n",
      " [ 20  77]\n",
      " [ 20  13]\n",
      " [ 20  79]\n",
      " [ 21  35]\n",
      " [ 21  66]\n",
      " [ 23  29]\n",
      " [ 23  98]\n",
      " [ 24  35]\n",
      " [ 24  73]\n",
      " [ 25   5]\n",
      " [ 25  73]\n",
      " [ 28  14]\n",
      " [ 28  82]\n",
      " [ 28  32]\n",
      " [ 28  61]\n",
      " [ 29  31]\n",
      " [ 29  87]\n",
      " [ 30   4]\n",
      " [ 30  73]\n",
      " [ 33   4]\n",
      " [ 33  92]\n",
      " [ 33  14]\n",
      " [ 33  81]\n",
      " [ 34  17]\n",
      " [ 34  73]\n",
      " [ 37  26]\n",
      " [ 37  75]\n",
      " [ 38  35]\n",
      " [ 38  92]\n",
      " [ 39  36]\n",
      " [ 39  61]\n",
      " [ 39  28]\n",
      " [ 39  65]\n",
      " [ 40  55]\n",
      " [ 40  47]\n",
      " [ 40  42]\n",
      " [ 40  42]\n",
      " [ 42  52]\n",
      " [ 42  60]\n",
      " [ 43  54]\n",
      " [ 43  60]\n",
      " [ 43  45]\n",
      " [ 43  41]\n",
      " [ 44  50]\n",
      " [ 44  46]\n",
      " [ 46  51]\n",
      " [ 46  46]\n",
      " [ 46  56]\n",
      " [ 46  55]\n",
      " [ 47  52]\n",
      " [ 47  59]\n",
      " [ 48  51]\n",
      " [ 48  59]\n",
      " [ 48  50]\n",
      " [ 48  48]\n",
      " [ 48  59]\n",
      " [ 48  47]\n",
      " [ 49  55]\n",
      " [ 49  42]\n",
      " [ 50  49]\n",
      " [ 50  56]\n",
      " [ 54  47]\n",
      " [ 54  54]\n",
      " [ 54  53]\n",
      " [ 54  48]\n",
      " [ 54  52]\n",
      " [ 54  42]\n",
      " [ 54  51]\n",
      " [ 54  55]\n",
      " [ 54  41]\n",
      " [ 54  44]\n",
      " [ 54  57]\n",
      " [ 54  46]\n",
      " [ 57  58]\n",
      " [ 57  55]\n",
      " [ 58  60]\n",
      " [ 58  46]\n",
      " [ 59  55]\n",
      " [ 59  41]\n",
      " [ 60  49]\n",
      " [ 60  40]\n",
      " [ 60  42]\n",
      " [ 60  52]\n",
      " [ 60  47]\n",
      " [ 60  50]\n",
      " [ 61  42]\n",
      " [ 61  49]\n",
      " [ 62  41]\n",
      " [ 62  48]\n",
      " [ 62  59]\n",
      " [ 62  55]\n",
      " [ 62  56]\n",
      " [ 62  42]\n",
      " [ 63  50]\n",
      " [ 63  46]\n",
      " [ 63  43]\n",
      " [ 63  48]\n",
      " [ 63  52]\n",
      " [ 63  54]\n",
      " [ 64  42]\n",
      " [ 64  46]\n",
      " [ 65  48]\n",
      " [ 65  50]\n",
      " [ 65  43]\n",
      " [ 65  59]\n",
      " [ 67  43]\n",
      " [ 67  57]\n",
      " [ 67  56]\n",
      " [ 67  40]\n",
      " [ 69  58]\n",
      " [ 69  91]\n",
      " [ 70  29]\n",
      " [ 70  77]\n",
      " [ 71  35]\n",
      " [ 71  95]\n",
      " [ 71  11]\n",
      " [ 71  75]\n",
      " [ 71   9]\n",
      " [ 71  75]\n",
      " [ 72  34]\n",
      " [ 72  71]\n",
      " [ 73   5]\n",
      " [ 73  88]\n",
      " [ 73   7]\n",
      " [ 73  73]\n",
      " [ 74  10]\n",
      " [ 74  72]\n",
      " [ 75   5]\n",
      " [ 75  93]\n",
      " [ 76  40]\n",
      " [ 76  87]\n",
      " [ 77  12]\n",
      " [ 77  97]\n",
      " [ 77  36]\n",
      " [ 77  74]\n",
      " [ 78  22]\n",
      " [ 78  90]\n",
      " [ 78  17]\n",
      " [ 78  88]\n",
      " [ 78  20]\n",
      " [ 78  76]\n",
      " [ 78  16]\n",
      " [ 78  89]\n",
      " [ 78   1]\n",
      " [ 78  78]\n",
      " [ 78   1]\n",
      " [ 78  73]\n",
      " [ 79  35]\n",
      " [ 79  83]\n",
      " [ 81   5]\n",
      " [ 81  93]\n",
      " [ 85  26]\n",
      " [ 85  75]\n",
      " [ 86  20]\n",
      " [ 86  95]\n",
      " [ 87  27]\n",
      " [ 87  63]\n",
      " [ 87  13]\n",
      " [ 87  75]\n",
      " [ 87  10]\n",
      " [ 87  92]\n",
      " [ 88  13]\n",
      " [ 88  86]\n",
      " [ 88  15]\n",
      " [ 88  69]\n",
      " [ 93  14]\n",
      " [ 93  90]\n",
      " [ 97  32]\n",
      " [ 97  86]\n",
      " [ 98  15]\n",
      " [ 98  88]\n",
      " [ 99  39]\n",
      " [ 99  97]\n",
      " [101  24]\n",
      " [101  68]\n",
      " [103  17]\n",
      " [103  85]\n",
      " [103  23]\n",
      " [103  69]\n",
      " [113   8]\n",
      " [113  91]\n",
      " [120  16]\n",
      " [120  79]\n",
      " [126  28]\n",
      " [126  74]\n",
      " [137  18]\n",
      " [137  83]]\n"
     ]
    }
   ],
   "source": [
    "X = customer_data.iloc[:,[3,4]].values\n",
    "print(X)"
   ]
  },
  {
   "cell_type": "markdown",
   "id": "0834167d",
   "metadata": {},
   "source": [
    "# Choosing the number of Clusters"
   ]
  },
  {
   "cell_type": "code",
   "execution_count": 12,
   "id": "9caad98b",
   "metadata": {},
   "outputs": [
    {
     "name": "stderr",
     "output_type": "stream",
     "text": [
      "C:\\Users\\HP\\anaconda3\\Lib\\site-packages\\sklearn\\cluster\\_kmeans.py:1412: FutureWarning: The default value of `n_init` will change from 10 to 'auto' in 1.4. Set the value of `n_init` explicitly to suppress the warning\n",
      "  super()._check_params_vs_input(X, default_n_init=10)\n",
      "C:\\Users\\HP\\anaconda3\\Lib\\site-packages\\sklearn\\cluster\\_kmeans.py:1436: UserWarning: KMeans is known to have a memory leak on Windows with MKL, when there are less chunks than available threads. You can avoid it by setting the environment variable OMP_NUM_THREADS=1.\n",
      "  warnings.warn(\n",
      "C:\\Users\\HP\\anaconda3\\Lib\\site-packages\\sklearn\\cluster\\_kmeans.py:1412: FutureWarning: The default value of `n_init` will change from 10 to 'auto' in 1.4. Set the value of `n_init` explicitly to suppress the warning\n",
      "  super()._check_params_vs_input(X, default_n_init=10)\n",
      "C:\\Users\\HP\\anaconda3\\Lib\\site-packages\\sklearn\\cluster\\_kmeans.py:1436: UserWarning: KMeans is known to have a memory leak on Windows with MKL, when there are less chunks than available threads. You can avoid it by setting the environment variable OMP_NUM_THREADS=1.\n",
      "  warnings.warn(\n",
      "C:\\Users\\HP\\anaconda3\\Lib\\site-packages\\sklearn\\cluster\\_kmeans.py:1412: FutureWarning: The default value of `n_init` will change from 10 to 'auto' in 1.4. Set the value of `n_init` explicitly to suppress the warning\n",
      "  super()._check_params_vs_input(X, default_n_init=10)\n",
      "C:\\Users\\HP\\anaconda3\\Lib\\site-packages\\sklearn\\cluster\\_kmeans.py:1436: UserWarning: KMeans is known to have a memory leak on Windows with MKL, when there are less chunks than available threads. You can avoid it by setting the environment variable OMP_NUM_THREADS=1.\n",
      "  warnings.warn(\n",
      "C:\\Users\\HP\\anaconda3\\Lib\\site-packages\\sklearn\\cluster\\_kmeans.py:1412: FutureWarning: The default value of `n_init` will change from 10 to 'auto' in 1.4. Set the value of `n_init` explicitly to suppress the warning\n",
      "  super()._check_params_vs_input(X, default_n_init=10)\n",
      "C:\\Users\\HP\\anaconda3\\Lib\\site-packages\\sklearn\\cluster\\_kmeans.py:1436: UserWarning: KMeans is known to have a memory leak on Windows with MKL, when there are less chunks than available threads. You can avoid it by setting the environment variable OMP_NUM_THREADS=1.\n",
      "  warnings.warn(\n",
      "C:\\Users\\HP\\anaconda3\\Lib\\site-packages\\sklearn\\cluster\\_kmeans.py:1412: FutureWarning: The default value of `n_init` will change from 10 to 'auto' in 1.4. Set the value of `n_init` explicitly to suppress the warning\n",
      "  super()._check_params_vs_input(X, default_n_init=10)\n",
      "C:\\Users\\HP\\anaconda3\\Lib\\site-packages\\sklearn\\cluster\\_kmeans.py:1436: UserWarning: KMeans is known to have a memory leak on Windows with MKL, when there are less chunks than available threads. You can avoid it by setting the environment variable OMP_NUM_THREADS=1.\n",
      "  warnings.warn(\n",
      "C:\\Users\\HP\\anaconda3\\Lib\\site-packages\\sklearn\\cluster\\_kmeans.py:1412: FutureWarning: The default value of `n_init` will change from 10 to 'auto' in 1.4. Set the value of `n_init` explicitly to suppress the warning\n",
      "  super()._check_params_vs_input(X, default_n_init=10)\n",
      "C:\\Users\\HP\\anaconda3\\Lib\\site-packages\\sklearn\\cluster\\_kmeans.py:1436: UserWarning: KMeans is known to have a memory leak on Windows with MKL, when there are less chunks than available threads. You can avoid it by setting the environment variable OMP_NUM_THREADS=1.\n",
      "  warnings.warn(\n",
      "C:\\Users\\HP\\anaconda3\\Lib\\site-packages\\sklearn\\cluster\\_kmeans.py:1412: FutureWarning: The default value of `n_init` will change from 10 to 'auto' in 1.4. Set the value of `n_init` explicitly to suppress the warning\n",
      "  super()._check_params_vs_input(X, default_n_init=10)\n",
      "C:\\Users\\HP\\anaconda3\\Lib\\site-packages\\sklearn\\cluster\\_kmeans.py:1436: UserWarning: KMeans is known to have a memory leak on Windows with MKL, when there are less chunks than available threads. You can avoid it by setting the environment variable OMP_NUM_THREADS=1.\n",
      "  warnings.warn(\n",
      "C:\\Users\\HP\\anaconda3\\Lib\\site-packages\\sklearn\\cluster\\_kmeans.py:1412: FutureWarning: The default value of `n_init` will change from 10 to 'auto' in 1.4. Set the value of `n_init` explicitly to suppress the warning\n",
      "  super()._check_params_vs_input(X, default_n_init=10)\n",
      "C:\\Users\\HP\\anaconda3\\Lib\\site-packages\\sklearn\\cluster\\_kmeans.py:1436: UserWarning: KMeans is known to have a memory leak on Windows with MKL, when there are less chunks than available threads. You can avoid it by setting the environment variable OMP_NUM_THREADS=1.\n",
      "  warnings.warn(\n",
      "C:\\Users\\HP\\anaconda3\\Lib\\site-packages\\sklearn\\cluster\\_kmeans.py:1412: FutureWarning: The default value of `n_init` will change from 10 to 'auto' in 1.4. Set the value of `n_init` explicitly to suppress the warning\n",
      "  super()._check_params_vs_input(X, default_n_init=10)\n",
      "C:\\Users\\HP\\anaconda3\\Lib\\site-packages\\sklearn\\cluster\\_kmeans.py:1436: UserWarning: KMeans is known to have a memory leak on Windows with MKL, when there are less chunks than available threads. You can avoid it by setting the environment variable OMP_NUM_THREADS=1.\n",
      "  warnings.warn(\n",
      "C:\\Users\\HP\\anaconda3\\Lib\\site-packages\\sklearn\\cluster\\_kmeans.py:1412: FutureWarning: The default value of `n_init` will change from 10 to 'auto' in 1.4. Set the value of `n_init` explicitly to suppress the warning\n",
      "  super()._check_params_vs_input(X, default_n_init=10)\n",
      "C:\\Users\\HP\\anaconda3\\Lib\\site-packages\\sklearn\\cluster\\_kmeans.py:1436: UserWarning: KMeans is known to have a memory leak on Windows with MKL, when there are less chunks than available threads. You can avoid it by setting the environment variable OMP_NUM_THREADS=1.\n",
      "  warnings.warn(\n"
     ]
    },
    {
     "name": "stdout",
     "output_type": "stream",
     "text": [
      "[269981.28, 181363.59595959593, 106348.37306211122, 73679.78903948836, 44448.4554479337, 37233.814510710006, 30241.34361793658, 25036.417604033988, 21916.79478984373, 20072.070939404002]\n"
     ]
    }
   ],
   "source": [
    "# wcss -> within clusters sum of squares\n",
    "# finding wcss value for finding number of clusters\n",
    "\n",
    "from sklearn.cluster import KMeans\n",
    "\n",
    "wcss = []\n",
    "for i in range(1, 11):\n",
    "    kmeans = KMeans(n_clusters=i, init='k-means++', random_state=42)\n",
    "    kmeans.fit(X)\n",
    "    wcss.append(kmeans.inertia_)  # Corrected attribute name\n",
    "\n",
    "print(wcss)"
   ]
  },
  {
   "cell_type": "code",
   "execution_count": 13,
   "id": "f3d009b4",
   "metadata": {},
   "outputs": [
    {
     "data": {
      "image/png": "[encoded data removed]",
      "text/plain": [
       "<Figure size 640x480 with 1 Axes>"
      ]
     },
     "metadata": {},
     "output_type": "display_data"
    }
   ],
   "source": [
    "#plot an elbow graph\n",
    "sns.set()\n",
    "plt.plot(range(1,11),wcss)\n",
    "plt.title(\"The Elbow Point Graph\")\n",
    "plt.xlabel(\"Number of Clusters\")\n",
    "plt.ylabel(\"WCSS\")\n",
    "plt.show()"
   ]
  },
  {
   "cell_type": "markdown",
   "id": "de090856",
   "metadata": {},
   "source": [
    "# Optimum Number of Clusters = 5"
   ]
  },
  {
   "cell_type": "code",
   "execution_count": 14,
   "id": "5c35842a",
   "metadata": {},
   "outputs": [],
   "source": [
    "#training the K-Means Clustering\n",
    "kmeans = KMeans(n_clusters = 5,init = 'k-means++',random_state=0)"
   ]
  },
  {
   "cell_type": "code",
   "execution_count": 15,
   "id": "2e70f58b",
   "metadata": {},
   "outputs": [
    {
     "name": "stderr",
     "output_type": "stream",
     "text": [
      "C:\\Users\\HP\\anaconda3\\Lib\\site-packages\\sklearn\\cluster\\_kmeans.py:1412: FutureWarning: The default value of `n_init` will change from 10 to 'auto' in 1.4. Set the value of `n_init` explicitly to suppress the warning\n",
      "  super()._check_params_vs_input(X, default_n_init=10)\n",
      "C:\\Users\\HP\\anaconda3\\Lib\\site-packages\\sklearn\\cluster\\_kmeans.py:1436: UserWarning: KMeans is known to have a memory leak on Windows with MKL, when there are less chunks than available threads. You can avoid it by setting the environment variable OMP_NUM_THREADS=1.\n",
      "  warnings.warn(\n"
     ]
    },
    {
     "name": "stdout",
     "output_type": "stream",
     "text": [
      "[3 4 3 4 3 4 3 4 3 4 3 4 3 4 3 4 3 4 3 4 3 4 3 4 3 4 3 4 3 4 3 4 3 4 3 4 3\n",
      " 4 3 4 3 4 3 0 3 4 0 0 0 0 0 0 0 0 0 0 0 0 0 0 0 0 0 0 0 0 0 0 0 0 0 0 0 0\n",
      " 0 0 0 0 0 0 0 0 0 0 0 0 0 0 0 0 0 0 0 0 0 0 0 0 0 0 0 0 0 0 0 0 0 0 0 0 0\n",
      " 0 0 0 0 0 0 0 0 0 0 0 0 1 2 1 0 1 2 1 2 1 0 1 2 1 2 1 2 1 2 1 0 1 2 1 2 1\n",
      " 2 1 2 1 2 1 2 1 2 1 2 1 2 1 2 1 2 1 2 1 2 1 2 1 2 1 2 1 2 1 2 1 2 1 2 1 2\n",
      " 1 2 1 2 1 2 1 2 1 2 1 2 1 2 1]\n"
     ]
    }
   ],
   "source": [
    "#return a label for each data point based on their cluster\n",
    "Y = kmeans.fit_predict(X)\n",
    "print(Y)"
   ]
  },
  {
   "cell_type": "markdown",
   "id": "68a4b2de",
   "metadata": {},
   "source": [
    "# 5 clusters - 0,1,2,3,4"
   ]
  },
  {
   "cell_type": "markdown",
   "id": "4f49e312",
   "metadata": {},
   "source": [
    "# Visualizing all the Clusters"
   ]
  },
  {
   "cell_type": "code",
   "execution_count": 17,
   "id": "31b78447",
   "metadata": {},
   "outputs": [
    {
     "data": {
      "text/plain": [
       "<matplotlib.collections.PathCollection at 0x1ca6e4365d0>"
      ]
     },
     "execution_count": 17,
     "metadata": {},
     "output_type": "execute_result"
    },
    {
     "data": {
      "image/png": "[encoded data removed]",
      "text/plain": [
       "<Figure size 800x800 with 1 Axes>"
      ]
     },
     "metadata": {},
     "output_type": "display_data"
    }
   ],
   "source": [
    "# plotting all the clusters and their Centroids\n",
    "\n",
    "plt.figure(figsize=(8,8))\n",
    "\n",
    "plt.scatter(X[Y==0, 0], X[Y==0, 1], s=50, c='green', label='Cluster 1')\n",
    "plt.scatter(X[Y==1, 0], X[Y==1, 1], s=50, c='red', label='Cluster 2')\n",
    "plt.scatter(X[Y==2, 0], X[Y==2, 1], s=50, c='yellow', label='Cluster 3')\n",
    "plt.scatter(X[Y==3, 0], X[Y==3, 1], s=50, c='violet', label='Cluster 4')\n",
    "plt.scatter(X[Y==4, 0], X[Y==4, 1], s=50, c='blue', label='Cluster 5')"
   ]
  },
  {
   "cell_type": "code",
   "execution_count": 19,
   "id": "8cc4e1e7",
   "metadata": {},
   "outputs": [
    {
     "data": {
      "image/png": "[encoded data removed]",
      "text/plain": [
       "<Figure size 640x480 with 1 Axes>"
      ]
     },
     "metadata": {},
     "output_type": "display_data"
    }
   ],
   "source": [
    "#plot the Centroids\n",
    "plt.scatter(kmeans.cluster_centers_[:, 0], kmeans.cluster_centers_[:, 1], \n",
    "            s=100, c='cyan', label='Centroid')\n",
    "\n",
    "plt.title('Customer Groups')\n",
    "plt.xlabel('Annual Income')\n",
    "plt.ylabel('Spending Score')\n",
    "plt.legend()\n",
    "plt.show()\n"
   ]
  },
  {
   "cell_type": "code",
   "execution_count": null,
   "id": "ed947bf5",
   "metadata": {},
   "outputs": [],
   "source": []
  }
 ],
 "metadata": {
  "kernelspec": {
   "display_name": "Python 3 (ipykernel)",
   "language": "python",
   "name": "python3"
  },
  "language_info": {
   "codemirror_mode": {
    "name": "ipython",
    "version": 3
   },
   "file_extension": ".py",
   "mimetype": "text/x-python",
   "name": "python",
   "nbconvert_exporter": "python",
   "pygments_lexer": "ipython3",
   "version": "3.11.5"
  }
 },
 "nbformat": 4,
 "nbformat_minor": 5
}
